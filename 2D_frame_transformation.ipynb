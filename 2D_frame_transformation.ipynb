{
 "cells": [
  {
   "cell_type": "code",
   "execution_count": null,
   "id": "1de4fe34-c840-407c-b69a-3d5b39031128",
   "metadata": {},
   "outputs": [
    {
     "name": "stdin",
     "output_type": "stream",
     "text": [
      "Enter source point0 separated by a space 1 2\n",
      "Enter destination point0 separated by a space 2 3\n",
      "Enter source point1 separated by a space 2 5\n",
      "Enter destination point1 separated by a space 3 6\n",
      "Enter source point2 separated by a space 8 10\n",
      "Enter destination point2 separated by a space 9 11\n"
     ]
    },
    {
     "name": "stdout",
     "output_type": "stream",
     "text": [
      "Transformation_Matrix:\n",
      " [[1. 0. 1.]\n",
      " [0. 1. 1.]\n",
      " [0. 0. 1.]]\n"
     ]
    },
    {
     "name": "stdin",
     "output_type": "stream",
     "text": [
      "Enter a Source point 85 86\n"
     ]
    },
    {
     "name": "stdout",
     "output_type": "stream",
     "text": [
      "[86.0, 87.0]\n"
     ]
    }
   ],
   "source": [
    "import numpy as np\n",
    "src=[]\n",
    "dst=[]\n",
    "for i in range(0,3):\n",
    "    src.append([float(value) for value in input(f'Enter source point{i} separated by a space').split(' ')])\n",
    "    dst.append([float(v) for v in input(f'Enter destination point{i} separated by a space').split(' ')])\n",
    "#src=[[-1,-1],[0,0],[0,1]]\n",
    "#dst=[[0,0],[1,1],[1,2]]\n",
    "a = np.array([[src[0][0],src[0][1],1],[src[1][0],src[1][1],1],[src[2][0],src[2][1],1]])\n",
    "b = np.array([dst[0][0],dst[1][0],dst[2][0]])\n",
    "x = np.linalg.solve(a, b)\n",
    "x=np.asmatrix(x)\n",
    "\n",
    "c = a\n",
    "d = np.array([dst[0][1],dst[1][1],dst[2][1]])\n",
    "y = np.linalg.solve(c, d)\n",
    "y=np.asmatrix(y)\n",
    "\n",
    "hom_row=np.asmatrix([0.,0.,1.])\n",
    "\n",
    "k=np.concatenate((x,y,hom_row),0)\n",
    "print('Transformation_Matrix:\\n',k)\n",
    "count=0\n",
    "while (count<3):\n",
    "    p1=input('Enter a Source point')\n",
    "    p = [float(value) for value in p1.split(' ')]\n",
    "    p.append(1)\n",
    "    dst_p=np.matmul(k,p)\n",
    "    dst_p=dst_p.tolist()\n",
    "    dst_p=(dst_p[0])[:-1]\n",
    "    print(dst_p)\n",
    "    del p1\n",
    "    del p\n",
    "    count+=1"
   ]
  },
  {
   "cell_type": "code",
   "execution_count": null,
   "id": "1e10b3cf-ce86-4f6a-b795-fc8530f1b250",
   "metadata": {},
   "outputs": [],
   "source": []
  }
 ],
 "metadata": {
  "kernelspec": {
   "display_name": "Python 3 (ipykernel)",
   "language": "python",
   "name": "python3"
  },
  "language_info": {
   "codemirror_mode": {
    "name": "ipython",
    "version": 3
   },
   "file_extension": ".py",
   "mimetype": "text/x-python",
   "name": "python",
   "nbconvert_exporter": "python",
   "pygments_lexer": "ipython3",
   "version": "3.9.13"
  }
 },
 "nbformat": 4,
 "nbformat_minor": 5
}
